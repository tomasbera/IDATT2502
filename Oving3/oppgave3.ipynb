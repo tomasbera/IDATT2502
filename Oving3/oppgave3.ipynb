{
 "cells": [
  {
   "cell_type": "code",
   "execution_count": 15,
   "id": "initial_id",
   "metadata": {
    "collapsed": true,
    "ExecuteTime": {
     "end_time": "2023-09-14T12:21:57.424097600Z",
     "start_time": "2023-09-14T12:21:56.799269600Z"
    }
   },
   "outputs": [],
   "source": [
    "import torch\n",
    "import numpy as np\n",
    "import matplotlib.pyplot as plt\n",
    "import torch.nn as nn\n",
    "import torchvision\n",
    "\n",
    "import tqdm\n",
    "# Load observations from the mnist dataset. The observations are divided into a training set and a test set\n",
    "mnist_train = torchvision.datasets.MNIST('./data', train=True, download=True)\n",
    "x_train = mnist_train.data.reshape(-1, 1, 28, 28).float()  # torch.functional.nn.conv2d argument must include channels (1)\n",
    "y_train = torch.zeros((mnist_train.targets.shape[0], 10))  # Create output tensor\n",
    "y_train[torch.arange(mnist_train.targets.shape[0]), mnist_train.targets] = 1  # Populate output\n",
    "\n",
    "mnist_test = torchvision.datasets.MNIST('./data', train=False, download=True)\n",
    "x_test = mnist_test.data.reshape(-1, 1, 28, 28).float()  # torch.functional.nn.conv2d argument must include channels (1)\n",
    "y_test = torch.zeros((mnist_test.targets.shape[0], 10))  # Create output tensor\n",
    "y_test[torch.arange(mnist_test.targets.shape[0]), mnist_test.targets] = 1  # Populate output\n",
    "\n",
    "# Normalization of inputs\n",
    "mean = x_train.mean()\n",
    "std = x_train.std()\n",
    "x_train = (x_train - mean) / std\n",
    "x_test = (x_test - mean) / std\n",
    "\n",
    "# Divide training data into batches to speed up optimization\n",
    "batches = 600\n",
    "x_train_batches = torch.split(x_train, batches)\n",
    "y_train_batches = torch.split(y_train, batches)"
   ]
  },
  {
   "cell_type": "code",
   "execution_count": 16,
   "outputs": [],
   "source": [
    "class ConvolutionalNeuralNetworkModel(nn.Module):\n",
    "\n",
    "    def __init__(self):\n",
    "        super(ConvolutionalNeuralNetworkModel, self).__init__()\n",
    "\n",
    "        # Model layers (includes initialized model variables):\n",
    "        self.logits = nn.Sequential(\n",
    "            nn.Conv2d(1, 32, kernel_size=5, padding=2),\n",
    "            nn.MaxPool2d(kernel_size=2),\n",
    "            nn.ReLU(),\n",
    "            nn.Dropout(0.25),\n",
    "            nn.Conv2d(32, 64, kernel_size=5, padding=2),\n",
    "            nn.MaxPool2d(kernel_size=2),\n",
    "            nn.ReLU(),\n",
    "            nn.Dropout(0.25),\n",
    "            nn.Flatten(),\n",
    "            nn.Linear(64 * 7 * 7, 1024),\n",
    "            nn.Linear(1 * 1024, 10))\n",
    "        \n",
    "\n",
    "    # Predictor\n",
    "    def f(self, x):\n",
    "        return torch.softmax(self.logits(x), dim=1)\n",
    "\n",
    "    # Cross Entropy loss\n",
    "    def loss(self, x, y):\n",
    "        return nn.functional.cross_entropy(self.logits(x), y.argmax(1))\n",
    "\n",
    "    # Accuracy\n",
    "    def accuracy(self, x, y):\n",
    "        return torch.mean(torch.eq(self.f(x).argmax(1), y.argmax(1)).float())\n"
   ],
   "metadata": {
    "collapsed": false,
    "ExecuteTime": {
     "end_time": "2023-09-14T12:21:57.466180100Z",
     "start_time": "2023-09-14T12:21:57.425096800Z"
    }
   },
   "id": "ec4d83a18f942a87"
  },
  {
   "cell_type": "code",
   "execution_count": 17,
   "outputs": [
    {
     "name": "stdout",
     "output_type": "stream",
     "text": [
      "accuracy = tensor(0.9737)\n",
      "accuracy = tensor(0.9801)\n",
      "accuracy = tensor(0.9842)\n",
      "accuracy = tensor(0.9844)\n",
      "accuracy = tensor(0.9867)\n",
      "accuracy = tensor(0.9860)\n",
      "accuracy = tensor(0.9857)\n",
      "accuracy = tensor(0.9852)\n",
      "accuracy = tensor(0.9883)\n",
      "accuracy = tensor(0.9880)\n",
      "accuracy = tensor(0.9874)\n",
      "accuracy = tensor(0.9869)\n",
      "accuracy = tensor(0.9863)\n",
      "accuracy = tensor(0.9889)\n",
      "accuracy = tensor(0.9866)\n",
      "accuracy = tensor(0.9870)\n",
      "accuracy = tensor(0.9850)\n",
      "accuracy = tensor(0.9853)\n",
      "accuracy = tensor(0.9895)\n",
      "accuracy = tensor(0.9885)\n"
     ]
    }
   ],
   "source": [
    "\n",
    "model = ConvolutionalNeuralNetworkModel()\n",
    "\n",
    "# Optimize: adjust W and b to minimize loss using stochastic gradient descent\n",
    "optimizer = torch.optim.Adam(model.parameters(), 0.001)\n",
    "for epoch in range(20):\n",
    "    for batch in range(len(x_train_batches)):\n",
    "        model.loss(x_train_batches[batch], y_train_batches[batch]).backward()  # Compute loss gradients\n",
    "        optimizer.step()  # Perform optimization by adjusting W and b,\n",
    "        optimizer.zero_grad()  # Clear gradients for next step\n",
    "\n",
    "    print(\"accuracy = %s\" % model.accuracy(x_test, y_test))\n",
    "\n"
   ],
   "metadata": {
    "collapsed": false,
    "ExecuteTime": {
     "end_time": "2023-09-14T13:01:20.645427Z",
     "start_time": "2023-09-14T12:21:57.459172700Z"
    }
   },
   "id": "d0b1d1b0caed2bf4"
  }
 ],
 "metadata": {
  "kernelspec": {
   "display_name": "Python 3",
   "language": "python",
   "name": "python3"
  },
  "language_info": {
   "codemirror_mode": {
    "name": "ipython",
    "version": 2
   },
   "file_extension": ".py",
   "mimetype": "text/x-python",
   "name": "python",
   "nbconvert_exporter": "python",
   "pygments_lexer": "ipython2",
   "version": "2.7.6"
  }
 },
 "nbformat": 4,
 "nbformat_minor": 5
}
