{
 "cells": [
  {
   "cell_type": "code",
   "execution_count": 108,
   "id": "initial_id",
   "metadata": {
    "collapsed": true,
    "ExecuteTime": {
     "end_time": "2023-09-18T09:57:44.288971200Z",
     "start_time": "2023-09-18T09:57:44.277969800Z"
    }
   },
   "outputs": [],
   "source": [
    "import torch\n",
    "import torch.nn as nn\n",
    "import numpy as np"
   ]
  },
  {
   "cell_type": "code",
   "execution_count": 109,
   "outputs": [],
   "source": [
    "class LongShortTermMemoryModel(nn.Module):\n",
    "\n",
    "    def __init__(self, encoding_size):\n",
    "        super(LongShortTermMemoryModel, self).__init__()\n",
    "\n",
    "        self.lstm = nn.LSTM(encoding_size, 128)\n",
    "        self.dense = nn.Linear(128, encoding_size)\n",
    "\n",
    "    def reset(self):\n",
    "        zero_state = torch.zeros(1, 1, 128)\n",
    "        self.hidden_state = zero_state\n",
    "        self.cell_state = zero_state\n",
    "\n",
    "    def logits(self, x):\n",
    "        out, (self.hidden_state, self.cell_state) = self.lstm(x, (self.hidden_state, self.cell_state))\n",
    "        return self.dense(out.reshape(-1, 128))\n",
    "\n",
    "    def f(self, x):\n",
    "        return torch.softmax(self.logits(x), dim=1)\n",
    "\n",
    "    def loss(self, x, y):\n",
    "        return nn.functional.cross_entropy(self.logits(x), y.argmax(1))\n"
   ],
   "metadata": {
    "collapsed": false,
    "ExecuteTime": {
     "end_time": "2023-09-18T09:57:44.302772700Z",
     "start_time": "2023-09-18T09:57:44.291967800Z"
    }
   },
   "id": "a9363f0b916f61ae"
  },
  {
   "cell_type": "code",
   "execution_count": 110,
   "outputs": [],
   "source": [
    "index_to_char = [' ', 'h', 'e', 'l', 'o', 'w', 'r', 'd']\n",
    "char_encodings = np.identity(len(index_to_char), dtype=float).tolist()\n",
    "encoding_size = len(char_encodings)\n",
    "\n",
    "\n",
    "x_train = torch.tensor([[char_encodings[0]], [char_encodings[1]], [char_encodings[2]], [char_encodings[3]], [char_encodings[3]],\n",
    "                        [char_encodings[4]],[char_encodings[0]], [char_encodings[5]], [char_encodings[4]], [char_encodings[6]], [char_encodings[3]], [char_encodings[7]]])  # ' hello world'\n",
    "                    \n",
    "y_train = torch.tensor([char_encodings[1], char_encodings[2], char_encodings[3], char_encodings[3], char_encodings[4], char_encodings[0], char_encodings[5], char_encodings[4], char_encodings[6], char_encodings[3], char_encodings[7], char_encodings[0]])  # 'hello world '\n"
   ],
   "metadata": {
    "collapsed": false,
    "ExecuteTime": {
     "end_time": "2023-09-18T09:57:44.329744800Z",
     "start_time": "2023-09-18T09:57:44.305743700Z"
    }
   },
   "id": "93dd4dae46544910"
  },
  {
   "cell_type": "code",
   "execution_count": 111,
   "outputs": [
    {
     "name": "stdout",
     "output_type": "stream",
     "text": [
      " hlllo                                               \n",
      " hlllo wrld    d                                     \n",
      " hlll world  wrld  wrld  wrld  wrld  wrld  wrld  wrld\n",
      " hello world  wrld  world  wrld  world  wrlld  wrld  \n",
      " hello world  wrld  world  wrld  world  wrld  world  \n",
      " hello world  wrld  world  wrld  world  wrld  world  \n",
      " hello world  wrld  world  wrld  world  wrld  world  \n",
      " hello world  wrld  wrlld world  wrlld world  wrlld w\n",
      " hello world world  wrlld world  wrll  world world  w\n",
      " hello world world  wrlld world world  wrlld world wo\n",
      " hello world world  wrll  world world  wrlld world wo\n",
      " hello world world world  wrlld world world  wrlld wo\n",
      " hello world world world  wrlld world world  wrll  wo\n",
      " hello world world world world  wrlld world world wor\n",
      " hello world world world world  wrll  world world wor\n",
      " hello world world world world world world  wrll  wor\n",
      " hello world world world world world world world worl\n",
      " hello world world world world world world world worl\n",
      " hello world world world world world world world worl\n",
      " hello world world world world world world world worl\n",
      " hello world world world world world world world worl\n",
      " hello world world world world world world world worl\n",
      " hello world world world world world world world worl\n",
      " hello world world world world world world world worl\n",
      " hello world world world world world world world worl\n",
      " hello world world world world world world world worl\n",
      " hello world world world world world world world worl\n",
      " hello world world world world world world world worl\n",
      " hello world world world world world world world worl\n",
      " hello world world world world world world world worl\n",
      " hello world world world world world world world worl\n",
      " hello world world world world world world world worl\n",
      " hello world world world world world world world worl\n",
      " hello world world world world world world world worl\n",
      " hello world world world world world world world worl\n",
      " hello world world world world world world world worl\n",
      " hello world world world world world world world worl\n",
      " hello world world world world world world world worl\n",
      " hello world world world world world world world worl\n",
      " hello world world world world world world world worl\n",
      " hello world world world world world world world worl\n",
      " hello world world world world world world world worl\n",
      " hello world world world world world world world worl\n",
      " hello world world world world world world world worl\n",
      " hello world world world world world world world worl\n",
      " hello world world world world world world world worl\n",
      " hello world world world world world world world worl\n",
      " hello world world world world world world world worl\n",
      " hello world world world world world world world worl\n",
      " hello world world world world world world world worl\n"
     ]
    }
   ],
   "source": [
    "model = LongShortTermMemoryModel(encoding_size)\n",
    "\n",
    "optimizer = torch.optim.RMSprop(model.parameters(), 0.001)\n",
    "for epoch in range(500):\n",
    "    model.reset()\n",
    "    model.loss(x_train, y_train).backward()\n",
    "    optimizer.step()\n",
    "    optimizer.zero_grad()\n",
    "\n",
    "    if epoch % 10 == 9:\n",
    "        model.reset()\n",
    "        text = ' h'\n",
    "        model.f(torch.tensor([[char_encodings[0]]]))\n",
    "        y = model.f(torch.tensor([[char_encodings[1]]]))\n",
    "        text += index_to_char[y.argmax(1)]\n",
    "        for c in range(50):\n",
    "            y = model.f(torch.tensor([[char_encodings[y.argmax(1)]]]))\n",
    "            text += index_to_char[y.argmax(1)]\n",
    "        print(text)\n"
   ],
   "metadata": {
    "collapsed": false,
    "ExecuteTime": {
     "end_time": "2023-09-18T09:57:45.837745600Z",
     "start_time": "2023-09-18T09:57:44.317745Z"
    }
   },
   "id": "b81fb94184c31b4c"
  },
  {
   "cell_type": "code",
   "execution_count": 111,
   "outputs": [],
   "source": [],
   "metadata": {
    "collapsed": false,
    "ExecuteTime": {
     "end_time": "2023-09-18T09:57:45.856742200Z",
     "start_time": "2023-09-18T09:57:45.839747Z"
    }
   },
   "id": "e84e0862597b2e48"
  }
 ],
 "metadata": {
  "kernelspec": {
   "display_name": "Python 3",
   "language": "python",
   "name": "python3"
  },
  "language_info": {
   "codemirror_mode": {
    "name": "ipython",
    "version": 2
   },
   "file_extension": ".py",
   "mimetype": "text/x-python",
   "name": "python",
   "nbconvert_exporter": "python",
   "pygments_lexer": "ipython2",
   "version": "2.7.6"
  }
 },
 "nbformat": 4,
 "nbformat_minor": 5
}
