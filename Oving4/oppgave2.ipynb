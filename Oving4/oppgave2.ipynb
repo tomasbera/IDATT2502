{
 "cells": [
  {
   "cell_type": "code",
   "execution_count": 51,
   "id": "initial_id",
   "metadata": {
    "collapsed": true,
    "ExecuteTime": {
     "end_time": "2023-09-21T07:39:57.145312500Z",
     "start_time": "2023-09-21T07:39:57.109536800Z"
    }
   },
   "outputs": [],
   "source": [
    "import torch\n",
    "import torch.nn as nn\n",
    "import numpy as np\n",
    "\n",
    "\n",
    "class LongShortTermMemoryModel(nn.Module):\n",
    "\n",
    "    def __init__(self, encoding_size):\n",
    "        super(LongShortTermMemoryModel, self).__init__()\n",
    "\n",
    "        self.lstm = nn.LSTM(encoding_size, 128)  # 128 is the state size\n",
    "        self.dense = nn.Linear(128, encoding_size)  # 128 is the state size\n",
    "\n",
    "    def reset(self):\n",
    "        zero_state = torch.zeros(1, 1, 128)  # Shape: (number of layers, batch size, state size)\n",
    "        self.hidden_state = zero_state\n",
    "        self.cell_state = zero_state\n",
    "\n",
    "\n",
    "    def logits(self, x):  # x shape: (sequence length, batch size, encoding size)\n",
    "        out, (self.hidden_state, self.cell_state) = self.lstm(x, (self.hidden_state, self.cell_state))\n",
    "        return self.dense(out.reshape(-1, 128))\n",
    "\n",
    "    def f(self, x):  # x shape: (sequence length, batch size, encoding size)\n",
    "        return torch.softmax(self.logits(x), dim=1)\n",
    "\n",
    "    def loss(self, x, y):  # x shape: (sequence length, batch size, encoding size), y shape: (sequence length, encoding size)\n",
    "        return nn.functional.cross_entropy(self.logits(x), y.argmax(1))"
   ]
  },
  {
   "cell_type": "code",
   "execution_count": 52,
   "outputs": [],
   "source": [
    "index_to_char = [' ', 'h', 'a', 'l', 'o', 't', 'r', 'f', 'c', 'm', 'p', 's', 'n']\n",
    "char_encodings = np.identity(len(index_to_char), dtype=float).tolist()\n",
    "encoding_size = len(char_encodings)\n",
    "\n",
    "emojis = {\n",
    "    \"hat\": [\"\\U0001F3A9\", \"hat \"],\n",
    "    \"rat\": [\"\\U0001F401\", \"rat \"],\n",
    "    \"cat\": [\"\\U0001F408\", \"cat \"],\n",
    "    \"flat\": [\"\\U0001F3E6\", \"flat\"],\n",
    "    \"matt\": [\"\\U0001F468\", \"matt\"],\n",
    "    \"cap\": [\"\\U0001F9E2\", \"cap \"],\n",
    "    \"son\": [\"\\U0001F349\", \"son \"]\n",
    "}\n",
    "\n",
    "def emoji_index(y: int):\n",
    "    i = 0\n",
    "    for value in emojis.values():\n",
    "        if i == y:\n",
    "            return value\n",
    "        i += 1\n",
    "    \n",
    "#print(emojies)\n",
    "emojiMatrix = np.eye(len(emojis))\n",
    "encoding_size = len(char_encodings)\n",
    "\n",
    "letter_dict = {\n",
    "    index_to_char[i]: i for i in range(0, len(index_to_char))\n",
    "}\n",
    "\n",
    "def letter(x: str):\n",
    "    char = char_encodings[letter_dict[x]]\n",
    "    return char\n",
    "\n",
    "x_train = torch.tensor([\n",
    "                       [[letter('h')], [letter('a')], [letter('t')],[letter(' ')]],\n",
    "                       [[letter('r')], [letter('a')], [letter('t')],[letter(' ')]],\n",
    "                       [[letter('c')], [letter('a')], [letter('t')],[letter(' ')]],\n",
    "                       [[letter('f')], [letter('l')], [letter('a')],[letter('t')]],\n",
    "                       [[letter('m')], [letter('a')], [letter('t')],[letter('t')]],\n",
    "                       [[letter('c')], [letter('a')], [letter('p')],[letter(' ')]],\n",
    "                       [[letter('s')], [letter('o')], [letter('n')],[letter(' ')]],\n",
    "                        ], dtype=torch.float)\n",
    "\n",
    "y_train = torch.tensor([\n",
    "                        [emojiMatrix[0], emojiMatrix[0], emojiMatrix[0], emojiMatrix[0]],\n",
    "                        [emojiMatrix[1], emojiMatrix[1], emojiMatrix[1], emojiMatrix[1]],\n",
    "                        [emojiMatrix[2], emojiMatrix[2], emojiMatrix[2], emojiMatrix[2]],\n",
    "                        [emojiMatrix[3], emojiMatrix[3], emojiMatrix[3], emojiMatrix[3]],\n",
    "                        [emojiMatrix[4], emojiMatrix[4], emojiMatrix[4], emojiMatrix[4]],\n",
    "                        [emojiMatrix[5], emojiMatrix[5], emojiMatrix[5], emojiMatrix[5]],\n",
    "                        [emojiMatrix[6], emojiMatrix[6], emojiMatrix[6], emojiMatrix[6]]\n",
    "                       ], dtype=torch.float)\n"
   ],
   "metadata": {
    "collapsed": false,
    "ExecuteTime": {
     "end_time": "2023-09-21T07:39:57.150313600Z",
     "start_time": "2023-09-21T07:39:57.139312600Z"
    }
   },
   "id": "ca706ef790be307d"
  },
  {
   "cell_type": "code",
   "execution_count": 53,
   "outputs": [
    {
     "name": "stdout",
     "output_type": "stream",
     "text": [
      "['🎩', 'hat ']\n",
      "['🐁', 'rat ']\n",
      "['👨', 'matt']\n",
      "['👨', 'matt']\n"
     ]
    }
   ],
   "source": [
    "model = LongShortTermMemoryModel(encoding_size)\n",
    "\n",
    "optimizer = torch.optim.RMSprop(model.parameters(), 0.001)\n",
    "for epoch in range(500):\n",
    "    for i in range(x_train.size()[0]):#Loops for each letter to emoji\n",
    "        model.reset()\n",
    "        model.loss(x_train[i], y_train[i]).backward()\n",
    "        optimizer.step()\n",
    "        optimizer.zero_grad()\n",
    "\n",
    "\n",
    "def get_emoji(emo: str):\n",
    "    y = -1\n",
    "    model.reset()\n",
    "    for i in range(len(emo)):\n",
    "        char_i = index_to_char.index(emo[i])\n",
    "        y = model.f(torch.tensor([[char_encodings[char_i]]]))\n",
    "    print(emoji_index(y.argmax(1)))\n",
    "    \n",
    "\n",
    "get_emoji(\"hat\")\n",
    "get_emoji(\"rt\")\n",
    "get_emoji(\"matt\")\n",
    "get_emoji(\"maattt\")"
   ],
   "metadata": {
    "collapsed": false,
    "ExecuteTime": {
     "end_time": "2023-09-21T07:40:02.857190400Z",
     "start_time": "2023-09-21T07:39:57.149318500Z"
    }
   },
   "id": "fc7567ec379efb3f"
  },
  {
   "cell_type": "code",
   "execution_count": 53,
   "outputs": [],
   "source": [],
   "metadata": {
    "collapsed": false,
    "ExecuteTime": {
     "end_time": "2023-09-21T07:40:02.888136400Z",
     "start_time": "2023-09-21T07:40:02.846166500Z"
    }
   },
   "id": "772f99c9fcd36343"
  }
 ],
 "metadata": {
  "kernelspec": {
   "display_name": "Python 3",
   "language": "python",
   "name": "python3"
  },
  "language_info": {
   "codemirror_mode": {
    "name": "ipython",
    "version": 2
   },
   "file_extension": ".py",
   "mimetype": "text/x-python",
   "name": "python",
   "nbconvert_exporter": "python",
   "pygments_lexer": "ipython2",
   "version": "2.7.6"
  }
 },
 "nbformat": 4,
 "nbformat_minor": 5
}
